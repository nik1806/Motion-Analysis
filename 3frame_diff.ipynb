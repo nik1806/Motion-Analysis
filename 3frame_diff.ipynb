{
 "cells": [
  {
   "cell_type": "markdown",
   "metadata": {},
   "source": [
    "## 3-Frame differencing"
   ]
  },
  {
   "cell_type": "markdown",
   "metadata": {},
   "source": [
    "Frame difference is an old companion of background subtraction method for the applications of\n",
    "motion object detection and tracking. In spite of its advantage over background subtraction for better\n",
    "capturing the dynamics of images it still lacks for practical implementation. A improved variant of\n",
    "frame difference, 3-frame difference has been shown in the figure below. Some characteristics of the algorithm\n",
    "is as follow:\n",
    "\n",
    "* Judge motion pixels on basis of two different frames.\n",
    "* Uses recent frames for difference.\n"
   ]
  },
  {
   "cell_type": "markdown",
   "metadata": {},
   "source": [
    "<img src=\"etc/3frame.png\" />"
   ]
  }
 ],
 "metadata": {
  "kernelspec": {
   "display_name": "Python 3",
   "language": "python",
   "name": "python3"
  },
  "language_info": {
   "codemirror_mode": {
    "name": "ipython",
    "version": 3
   },
   "file_extension": ".py",
   "mimetype": "text/x-python",
   "name": "python",
   "nbconvert_exporter": "python",
   "pygments_lexer": "ipython3",
   "version": "3.6.8"
  }
 },
 "nbformat": 4,
 "nbformat_minor": 2
}
