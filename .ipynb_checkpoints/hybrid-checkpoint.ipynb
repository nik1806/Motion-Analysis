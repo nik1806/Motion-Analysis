{
 "cells": [
  {
   "cell_type": "markdown",
   "metadata": {},
   "source": [
    "## Hybrid Algorithm (3-frame differencing + Adaptive background modeling)"
   ]
  },
  {
   "cell_type": "markdown",
   "metadata": {},
   "source": [
    "In attempt to join the qualities of motion detection algorithms a hybrid algorithm was proposed,\n",
    "which is a modification of 3-frame difference with background adaptation problems. The implemented\n",
    "algorithm is presented in the figure below. The output with analysis against different conditions will help us\n",
    "classify the optimum algorithm for our system.\n"
   ]
  },
  {
   "cell_type": "markdown",
   "metadata": {},
   "source": [
    "<img src=\"etc/hybrid.png\" />"
   ]
  },
  {
   "cell_type": "code",
   "execution_count": 1,
   "metadata": {},
   "outputs": [
    {
     "name": "stderr",
     "output_type": "stream",
     "text": [
      "/home/nikhil/.virtualenvs/pytorch/lib/python3.6/site-packages/ipykernel_launcher.py:48: RuntimeWarning: overflow encountered in ubyte_scalars\n"
     ]
    },
    {
     "ename": "AttributeError",
     "evalue": "module 'cv2.cv2' has no attribute 'destroyAllWindow'",
     "output_type": "error",
     "traceback": [
      "\u001b[0;31m---------------------------------------------------------------------------\u001b[0m",
      "\u001b[0;31mAttributeError\u001b[0m                            Traceback (most recent call last)",
      "\u001b[0;32m<ipython-input-1-a534265dc7e6>\u001b[0m in \u001b[0;36m<module>\u001b[0;34m\u001b[0m\n\u001b[1;32m     96\u001b[0m         \u001b[0;32mbreak\u001b[0m\u001b[0;34m\u001b[0m\u001b[0;34m\u001b[0m\u001b[0m\n\u001b[1;32m     97\u001b[0m \u001b[0;34m\u001b[0m\u001b[0m\n\u001b[0;32m---> 98\u001b[0;31m \u001b[0mcv2\u001b[0m\u001b[0;34m.\u001b[0m\u001b[0mdestroyAllWindow\u001b[0m\u001b[0;34m(\u001b[0m\u001b[0;34m)\u001b[0m\u001b[0;34m\u001b[0m\u001b[0;34m\u001b[0m\u001b[0m\n\u001b[0m\u001b[1;32m     99\u001b[0m \u001b[0mcap\u001b[0m\u001b[0;34m.\u001b[0m\u001b[0mrelease\u001b[0m\u001b[0;34m(\u001b[0m\u001b[0;34m)\u001b[0m\u001b[0;34m\u001b[0m\u001b[0;34m\u001b[0m\u001b[0m\n\u001b[1;32m    100\u001b[0m \u001b[0;34m\u001b[0m\u001b[0m\n",
      "\u001b[0;31mAttributeError\u001b[0m: module 'cv2.cv2' has no attribute 'destroyAllWindow'"
     ]
    }
   ],
   "source": [
    "import cv2\n",
    "import numpy as np\n",
    "import time\n",
    "\n",
    "cap = cv2.VideoCapture(0)\n",
    "\n",
    "alpha = 0.5 # initialization\n",
    "\n",
    "time.sleep(3)\n",
    "\n",
    "_, first_frame = cap.read()\n",
    "first_gray = cv2.cvtColor(first_frame, cv2.COLOR_BGR2GRAY)\n",
    "\n",
    "_, second_frame = cap.read()\n",
    "second_gray = cv2.cvtColor(second_frame, cv2.COLOR_BGR2GRAY)\n",
    "\n",
    "Tn = 100 * np.ones(first_gray.shape, np.uint8)\n",
    "\n",
    "def bck_model(Bn, In, dilute_frame, alpha):\n",
    "    '''\n",
    "        Implementing background adaptation based on model formulae\n",
    "    '''\n",
    "    \n",
    "    B_new = Bn\n",
    "    row = Bn.shape[0]\n",
    "    col = Bn.shape[1]\n",
    "    \n",
    "    for i in range(0, row):\n",
    "        for j in range(0, col):\n",
    "            if(dilute_frame[i][j] > 0): # moving pixel\n",
    "                B_new[i][j] = (alpha * Bn[i][j] + (1 - alpha)* In[i][j]).astype(np.uint8)\n",
    "                \n",
    "    return B_new\n",
    "\n",
    "\n",
    "def thresh_model(Tn, Bn, In, dilute_frame, alpha):\n",
    "    ''' \n",
    "        Updating the threshold matrix\n",
    "    '''\n",
    "\n",
    "    T_new = Tn\n",
    "    row = Tn.shape[0]\n",
    "    col = Tn.shape[1]\n",
    "    \n",
    "    for i in range(0, row):\n",
    "        for j in range(0, col):\n",
    "            if(dilute_frame[i][j] == 1): # moving pixel\n",
    "                T_new[i][j] = (alpha * Tn[i][j] + (1 - alpha)* 5 * abs(In[i][j] - Bn[i][j]) ).astype(np.uint8)\n",
    "                \n",
    "    return T_new\n",
    "\n",
    "\n",
    "def seg_motion(delta, Tn):\n",
    "    ''' \n",
    "        Compare frame difference matrix with threshold matrix for motion \n",
    "    '''\n",
    "    row = delta.shape[0]\n",
    "    col = delta.shape[1]\n",
    "    thresh_mat = np.zeros([row, col])\n",
    "    for i in range(0, row):\n",
    "        for j in range(0, col):\n",
    "            if(delta[i][j] >= Tn[i][j]): # Binary Thresholding\n",
    "                thresh_mat[i][j] = 1\n",
    "                \n",
    "    return thresh_mat\n",
    "\n",
    "\n",
    "while(True):\n",
    "    \n",
    "    _, frame = cap.read()\n",
    "    \n",
    "    gray = cv2.cvtColor(frame, cv2.COLOR_BGR2GRAY)\n",
    "    gray = cv2.GaussianBlur(gray, (21,21), 0)\n",
    "    \n",
    "    delta_frame1 = cv2.absdiff(gray, first_gray)\n",
    "    delta_frame2 = cv2.absdiff(gray, second_gray)\n",
    "    \n",
    "    thresh_frame1 = seg_motion(delta_frame1, Tn)\n",
    "    thresh_frame2 = seg_motion(delta_frame2, Tn)\n",
    "    \n",
    "    thresh_frame = cv2.bitwise_and(thresh_frame1, thresh_frame2)\n",
    "    \n",
    "    dilute_frame = cv2.dilate(thresh_frame, None, iterations = 3)\n",
    "    \n",
    "    # cv2.imshow(\"gray\", gray)\n",
    "    cv2.imshow(\"motion\", dilute_frame)\n",
    "    cv2.imshow(\"Original\", frame)\n",
    "    \n",
    "    second_gray = first_gray\n",
    "    # updating frame\n",
    "    first_gray = bck_model( first_gray, gray, dilute_frame, alpha)\n",
    "    # update threshold matrix\n",
    "    Tn = thresh_model(Tn, first_gray, gray, dilute_frame, alpha)\n",
    "    \n",
    "    if cv2.waitKey(10) == ord('q'):\n",
    "        break\n",
    "        \n",
    "cv2.destroyAllWindows()\n",
    "cap.release()\n",
    "    "
   ]
  }
 ],
 "metadata": {
  "kernelspec": {
   "display_name": "Python 3",
   "language": "python",
   "name": "python3"
  },
  "language_info": {
   "codemirror_mode": {
    "name": "ipython",
    "version": 3
   },
   "file_extension": ".py",
   "mimetype": "text/x-python",
   "name": "python",
   "nbconvert_exporter": "python",
   "pygments_lexer": "ipython3",
   "version": "3.6.8"
  }
 },
 "nbformat": 4,
 "nbformat_minor": 2
}
