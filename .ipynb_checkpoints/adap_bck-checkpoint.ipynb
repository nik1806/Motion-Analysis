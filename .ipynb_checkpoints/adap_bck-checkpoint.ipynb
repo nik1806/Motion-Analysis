{
 "cells": [
  {
   "cell_type": "markdown",
   "metadata": {},
   "source": [
    "# Adaptive Background subtraction"
   ]
  },
  {
   "cell_type": "markdown",
   "metadata": {},
   "source": [
    "A very fundamental algorithm of background subtraction for video tracking and detecting moving\n",
    "objects, uses the initial background of image as reference for detection of any change but it is limited\n",
    "by many constrains. Adaptive background subtractions presented in  is implemented for our\n",
    "analysis. Some characteristics of the algorithm are as follow:\n",
    "\n",
    "* Updates its background model over time based on an alpha (values lies between 0 and 1) hyperparameter.\n",
    "* The threshold parameter is also updated based on recent inputs and the alpha hyperparameters.\n",
    "* Gives better results than normal background algorithms which just use first frame as background."
   ]
  },
  {
   "cell_type": "markdown",
   "metadata": {},
   "source": [
    "<img src=\"adaptive background.png\" />"
   ]
  },
  {
   "cell_type": "code",
   "execution_count": 3,
   "metadata": {},
   "outputs": [
    {
     "name": "stderr",
     "output_type": "stream",
     "text": [
      "/home/nikhil/.virtualenvs/pytorch/lib/python3.6/site-packages/ipykernel_launcher.py:55: RuntimeWarning: overflow encountered in ubyte_scalars\n"
     ]
    }
   ],
   "source": [
    "import cv2\n",
    "import numpy as np\n",
    "\n",
    "bck_frame = None\n",
    "\n",
    "alpha = 0.2\n",
    "\n",
    "video = cv2.VideoCapture(0)\n",
    "\n",
    "\n",
    "def seg_motion(delta, Tn):\n",
    "    ''' \n",
    "        Compare frame difference matrix with threshold matrix for motion \n",
    "    '''\n",
    "    row = delta.shape[0]\n",
    "    col = delta.shape[1]\n",
    "    thresh_mat = np.zeros([row, col])\n",
    "    for i in range(0, row):\n",
    "        for j in range(0, col):\n",
    "            if(delta[i][j] >= Tn[i][j]): # Binary Thresholding\n",
    "                thresh_mat[i][j] = 1\n",
    "                \n",
    "    return thresh_mat\n",
    "\n",
    "\n",
    "def bck_model(Bn, In, dilute_frame, alpha):\n",
    "    '''\n",
    "        Implementing background adaptation based on model formulae\n",
    "    '''\n",
    "    \n",
    "    B_new = Bn\n",
    "    row = Bn.shape[0]\n",
    "    col = Bn.shape[1]\n",
    "    \n",
    "    for i in range(0, row):\n",
    "        for j in range(0, col):\n",
    "            if(dilute_frame[i][j] > 0): # moving pixel\n",
    "                B_new[i][j] = (alpha * Bn[i][j] + (1 - alpha)* In[i][j]).astype(np.uint8)\n",
    "                \n",
    "    return B_new\n",
    "\n",
    "\n",
    "def thresh_model(Tn, Bn, In, dilute_frame, alpha):\n",
    "    ''' \n",
    "        Updating the threshold matrix\n",
    "    '''\n",
    "\n",
    "    T_new = Tn\n",
    "    row = Tn.shape[0]\n",
    "    col = Tn.shape[1]\n",
    "    \n",
    "    for i in range(0, row):\n",
    "        for j in range(0, col):\n",
    "            if(dilute_frame[i][j] == 1): # moving pixel\n",
    "                T_new[i][j] = (alpha * Tn[i][j] + (1 - alpha)* 5 * abs(In[i][j] - Bn[i][j]) ).astype(np.uint8)\n",
    "                \n",
    "    return T_new\n",
    "\n",
    "\n",
    "while(True):\n",
    "    chk, frame = video.read()\n",
    "    \n",
    "    gray = cv2.cvtColor(frame, cv2.COLOR_BGR2GRAY)\n",
    "    gray = cv2.GaussianBlur(gray, (21, 21), 0)\n",
    "    \n",
    "    #To retain first frame\n",
    "    if bck_frame is None:\n",
    "        bck_frame = gray\n",
    "        \n",
    "        #Initializing with half intensity value\n",
    "        Tn = 100 * np.ones(frame.shape[:2], np.uint8)\n",
    "        continue\n",
    "        \n",
    "    delta_frame = cv2.absdiff(gray, bck_frame)\n",
    "    \n",
    "    motion_frame = seg_motion(delta_frame, Tn)\n",
    "    \n",
    "    dilute_frame = cv2.dilate(motion_frame, None, iterations = 3)\n",
    "    \n",
    "    cv2.imshow(\"gray\", gray)\n",
    "    cv2.imshow(\"motion\", dilute_frame)\n",
    "    cv2.imshow(\"Original\", frame)\n",
    "    cv2.imshow(\"Background\", bck_frame)\n",
    "    \n",
    "    #update background frame\n",
    "    bck_frame = bck_model(bck_frame, gray, dilute_frame, alpha)\n",
    "    \n",
    "    #update threshold matrix\n",
    "    Tn = thresh_model(Tn, bck_frame, gray, dilute_frame, alpha)\n",
    "    \n",
    "    if( cv2.waitKey(10) == ord('q')):\n",
    "        break\n",
    "        \n",
    "cv2.destroyAllWindows()\n",
    "video.release()\n",
    "    \n"
   ]
  }
 ],
 "metadata": {
  "kernelspec": {
   "display_name": "Python 3",
   "language": "python",
   "name": "python3"
  },
  "language_info": {
   "codemirror_mode": {
    "name": "ipython",
    "version": 3
   },
   "file_extension": ".py",
   "mimetype": "text/x-python",
   "name": "python",
   "nbconvert_exporter": "python",
   "pygments_lexer": "ipython3",
   "version": "3.6.8"
  }
 },
 "nbformat": 4,
 "nbformat_minor": 2
}
