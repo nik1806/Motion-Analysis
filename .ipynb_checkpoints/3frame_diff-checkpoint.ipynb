{
 "cells": [
  {
   "cell_type": "markdown",
   "metadata": {},
   "source": [
    "## 3-Frame differencing"
   ]
  },
  {
   "cell_type": "markdown",
   "metadata": {},
   "source": [
    "Frame difference is an old companion of background subtraction method for the applications of\n",
    "motion object detection and tracking. In spite of its advantage over background subtraction for better\n",
    "capturing the dynamics of images it still lacks for practical implementation. A improved variant of\n",
    "frame difference, 3-frame difference has been shown in the figure below. Some characteristics of the algorithm\n",
    "is as follow:\n",
    "\n",
    "* Judge motion pixels on basis of two different frames.\n",
    "* Uses recent frames for difference.\n"
   ]
  },
  {
   "cell_type": "markdown",
   "metadata": {},
   "source": [
    "<img src=\"etc/3frame.png\" />"
   ]
  },
  {
   "cell_type": "code",
   "execution_count": 1,
   "metadata": {},
   "outputs": [],
   "source": [
    "import cv2\n",
    "import numpy as np\n",
    "import time\n",
    "\n",
    "\n",
    "cap = cv2.VideoCapture(0)\n",
    "\n",
    "# time for camera to read at first\n",
    "time.sleep(2)\n",
    "\n",
    "_, first_frame = cap.read()\n",
    "first_gray = cv2.cvtColor(first_frame, cv2.COLOR_BGR2GRAY)\n",
    "\n",
    "_, second_frame = cap.read()\n",
    "second_gray = cv2.cvtColor(second_frame, cv2.COLOR_BGR2GRAY)\n",
    "\n",
    "Tx = 50 # threshold value\n",
    "\n",
    "while(True):\n",
    "    _, frame = cap.read()\n",
    "    \n",
    "    gray = cv2.cvtColor(frame, cv2.COLOR_BGR2GRAY)\n",
    "    gray = cv2.GaussianBlur(gray, (21,21), 0)\n",
    "    \n",
    "    delta_frame1 = cv2.absdiff(gray, first_gray)\n",
    "    delta_frame2 = cv2.absdiff(gray, second_gray)\n",
    "    \n",
    "    _, thresh_frame1 = cv2.threshold(delta_frame1, Tx, 255, cv2.THRESH_BINARY)\n",
    "    _, thresh_frame2 = cv2.threshold(delta_frame2, Tx, 255, cv2.THRESH_BINARY)\n",
    "    \n",
    "    # aggregation\n",
    "    thresh_frame = cv2.bitwise_and(thresh_frame1, thresh_frame2)\n",
    "    \n",
    "    # enhancing\n",
    "    dilute_frame = cv2.dilate(thresh_frame, None, iterations = 3)\n",
    "    \n",
    "    # display\n",
    "    cv2.imshow(\"Delta\", np.concatenate((delta_frame1, delta_frame2), axis=1))\n",
    "    cv2.imshow(\"Thresh\", thresh_frame)\n",
    "    cv2.imshow(\"Motion\", dilute_frame)\n",
    "    cv2.imshow(\"Original\", frame)\n",
    "    \n",
    "    # passing frames for next iteration\n",
    "    second_gray = first_gray\n",
    "    first_gray = gray\n",
    "    \n",
    "    if( cv2.waitKey(10) == ord('q')):\n",
    "        break\n",
    "        \n",
    "cv2.destroyAllWindows()\n",
    "cap.release()\n"
   ]
  }
 ],
 "metadata": {
  "kernelspec": {
   "display_name": "Python 3",
   "language": "python",
   "name": "python3"
  },
  "language_info": {
   "codemirror_mode": {
    "name": "ipython",
    "version": 3
   },
   "file_extension": ".py",
   "mimetype": "text/x-python",
   "name": "python",
   "nbconvert_exporter": "python",
   "pygments_lexer": "ipython3",
   "version": "3.6.8"
  }
 },
 "nbformat": 4,
 "nbformat_minor": 2
}
